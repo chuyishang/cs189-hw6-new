{
 "cells": [
  {
   "cell_type": "code",
   "execution_count": 2,
   "metadata": {},
   "outputs": [],
   "source": [
    "import numpy as np"
   ]
  },
  {
   "cell_type": "code",
   "execution_count": 2,
   "metadata": {},
   "outputs": [
    {
     "data": {
      "text/plain": [
       "[0.007112438338266277, 0.019333611890944673, 0.14285714285714285]"
      ]
     },
     "execution_count": 2,
     "metadata": {},
     "output_type": "execute_result"
    }
   ],
   "source": [
    "z = np.array([1, 2, 4])\n",
    "\n",
    "arr = []\n",
    "for i in range(len(z)):\n",
    "    elem = np.exp(z[i] - 4) / 7\n",
    "    arr.append(elem)\n",
    "arr"
   ]
  },
  {
   "cell_type": "code",
   "execution_count": 7,
   "metadata": {},
   "outputs": [
    {
     "data": {
      "text/plain": [
       "array([0.00711244, 0.01933361, 0.14285714])"
      ]
     },
     "execution_count": 7,
     "metadata": {},
     "output_type": "execute_result"
    }
   ],
   "source": [
    "max = np.max(z)\n",
    "np.exp(z - max) / np.sum(z - max)"
   ]
  },
  {
   "cell_type": "code",
   "execution_count": 6,
   "metadata": {},
   "outputs": [
    {
     "data": {
      "text/plain": [
       "7"
      ]
     },
     "execution_count": 6,
     "metadata": {},
     "output_type": "execute_result"
    }
   ],
   "source": [
    "np.sum(z)"
   ]
  },
  {
   "cell_type": "code",
   "execution_count": 8,
   "metadata": {},
   "outputs": [
    {
     "data": {
      "text/plain": [
       "array([ 2,  4, 16], dtype=int32)"
      ]
     },
     "execution_count": 8,
     "metadata": {},
     "output_type": "execute_result"
    }
   ],
   "source": [
    "2 ** z"
   ]
  },
  {
   "cell_type": "code",
   "execution_count": 9,
   "metadata": {},
   "outputs": [
    {
     "data": {
      "text/plain": [
       "array([-3, -2,  0])"
      ]
     },
     "execution_count": 9,
     "metadata": {},
     "output_type": "execute_result"
    }
   ],
   "source": [
    "z-4"
   ]
  },
  {
   "cell_type": "code",
   "execution_count": 10,
   "metadata": {},
   "outputs": [
    {
     "data": {
      "text/plain": [
       "-5"
      ]
     },
     "execution_count": 10,
     "metadata": {},
     "output_type": "execute_result"
    }
   ],
   "source": [
    "np.sum(z-4)"
   ]
  },
  {
   "cell_type": "code",
   "execution_count": 32,
   "metadata": {},
   "outputs": [],
   "source": [
    "Z = np.array([[1, 2, 3],\n",
    "             [9, 4, 6],\n",
    "             [7, 2, 9]])"
   ]
  },
  {
   "cell_type": "code",
   "execution_count": 33,
   "metadata": {},
   "outputs": [
    {
     "data": {
      "text/plain": [
       "array([[1, 2, 3],\n",
       "       [9, 4, 6],\n",
       "       [7, 2, 9]])"
      ]
     },
     "execution_count": 33,
     "metadata": {},
     "output_type": "execute_result"
    }
   ],
   "source": [
    "Z"
   ]
  },
  {
   "cell_type": "code",
   "execution_count": 34,
   "metadata": {},
   "outputs": [
    {
     "data": {
      "text/plain": [
       "array([[3],\n",
       "       [9],\n",
       "       [9]])"
      ]
     },
     "execution_count": 34,
     "metadata": {},
     "output_type": "execute_result"
    }
   ],
   "source": [
    "np.max(Z, axis=1, keepdims=True)"
   ]
  },
  {
   "cell_type": "code",
   "execution_count": 35,
   "metadata": {},
   "outputs": [
    {
     "data": {
      "text/plain": [
       "array([[-2, -1,  0],\n",
       "       [ 0, -5, -3],\n",
       "       [-2, -7,  0]])"
      ]
     },
     "execution_count": 35,
     "metadata": {},
     "output_type": "execute_result"
    }
   ],
   "source": [
    "Z - np.max(Z, axis=1, keepdims=True)"
   ]
  },
  {
   "cell_type": "code",
   "execution_count": 36,
   "metadata": {},
   "outputs": [
    {
     "data": {
      "text/plain": [
       "array([[1.35335283e-01, 3.67879441e-01, 1.00000000e+00],\n",
       "       [1.00000000e+00, 6.73794700e-03, 4.97870684e-02],\n",
       "       [1.35335283e-01, 9.11881966e-04, 1.00000000e+00]])"
      ]
     },
     "execution_count": 36,
     "metadata": {},
     "output_type": "execute_result"
    }
   ],
   "source": [
    "np.exp(Z - np.max(Z, axis=1, keepdims=True))"
   ]
  },
  {
   "cell_type": "code",
   "execution_count": 42,
   "metadata": {},
   "outputs": [],
   "source": [
    "def forward(Z: np.ndarray) -> np.ndarray:\n",
    "    Z_center = Z - np.max(Z, axis=1, keepdims=True)\n",
    "        \n",
    "    num = np.exp(Z_center)\n",
    "    denom = np.sum(num, axis=1, keepdims=True)\n",
    "\n",
    "    softmax = num / denom\n",
    "\n",
    "    return softmax\n",
    "\n",
    "def backward(Z: np.ndarray, dY: np.ndarray) -> np.ndarray:\n",
    "    arr = []  \n",
    "    s = forward(Z)\n",
    "    ones = np.ones(Z.shape[0]).reshape(Z.shape[0], 1)\n",
    "    s_minus = ones - s\n",
    "    diags = s @ s_minus.T\n",
    "    for row in diags:\n",
    "        arr.append(np.diagflat(row))\n",
    "    \n",
    "\n",
    "\n",
    "\n",
    "    return np.array(arr)\n"
   ]
  },
  {
   "cell_type": "code",
   "execution_count": 54,
   "metadata": {},
   "outputs": [],
   "source": [
    "Z = np.array([[1, 2, 3],\n",
    "             [9, 4, 6],\n",
    "             [7, 2, 9],\n",
    "             [1, 5, 5]])"
   ]
  },
  {
   "cell_type": "code",
   "execution_count": 55,
   "metadata": {},
   "outputs": [
    {
     "data": {
      "text/plain": [
       "array([[9.00305732e-02, 2.44728471e-01, 6.65240956e-01],\n",
       "       [9.46499123e-01, 6.37746092e-03, 4.71234165e-02],\n",
       "       [1.19107257e-01, 8.02538386e-04, 8.80090205e-01],\n",
       "       [9.07471484e-03, 4.95462643e-01, 4.95462643e-01]])"
      ]
     },
     "execution_count": 55,
     "metadata": {},
     "output_type": "execute_result"
    }
   ],
   "source": [
    "arr = []  \n",
    "    s = forward(Z)\n",
    "    ones = np.ones(Z.shape[0]).reshape(Z.shape[0], 1)\n",
    "    s_minus = ones - s\n",
    "    diags = s @ s_minus.T\n",
    "    for row in diags:\n",
    "        arr.append(np.diagflat(row))"
   ]
  },
  {
   "cell_type": "code",
   "execution_count": 58,
   "metadata": {},
   "outputs": [],
   "source": [
    "A = np.ones(4).reshape(4,1) - s"
   ]
  },
  {
   "cell_type": "code",
   "execution_count": 59,
   "metadata": {},
   "outputs": [
    {
     "data": {
      "text/plain": [
       "array([[0.48945694, 0.88187697, 0.40360825, 0.54832714],\n",
       "       [0.88187697, 0.10187812, 0.84578711, 0.9649031 ],\n",
       "       [0.40360825, 0.84578711, 0.21125405, 0.56246969],\n",
       "       [0.54832714, 0.9649031 , 0.56246969, 0.50895119]])"
      ]
     },
     "execution_count": 59,
     "metadata": {},
     "output_type": "execute_result"
    }
   ],
   "source": [
    "diags = s @ A.T"
   ]
  },
  {
   "cell_type": "code",
   "execution_count": 10,
   "metadata": {},
   "outputs": [],
   "source": [
    "def im2col(X, kernel_shape, stride, pad):\n",
    "    # n_channels = in_channels\n",
    "    n_channels = X.shape[3]\n",
    "    # sliding kernel shape\n",
    "    kernel_height, kernel_width = kernel_shape\n",
    "    # padding\n",
    "    # X_pad is padded input\n",
    "    # p\n",
    "    X_pad, p = pad2d(X, pad, kernel_shape, stride)\n",
    "    X_pad = X_pad.transpose(0, 3, 1, 2)\n",
    "    X = X.transpose(0, 3, 1, 2)\n",
    "\n",
    "    i, j, k = im2col_indices(X, kernel_shape, stride, p)\n",
    "    X_col = X_pad[:, k, i, j]\n",
    "\n",
    "    X_col = X_col.transpose(1, 2, 0).reshape(\n",
    "        kernel_height * kernel_width * n_channels, -1\n",
    "    )\n",
    "\n",
    "    return X_col, p"
   ]
  },
  {
   "cell_type": "code",
   "execution_count": 12,
   "metadata": {},
   "outputs": [],
   "source": [
    "import scipy.signal"
   ]
  },
  {
   "cell_type": "code",
   "execution_count": 14,
   "metadata": {},
   "outputs": [],
   "source": [
    "Z = np.array([[[[1, 2, 3],\n",
    "              [9, 4, 6],\n",
    "              [7, 2, 9]]]])"
   ]
  },
  {
   "cell_type": "code",
   "execution_count": 19,
   "metadata": {},
   "outputs": [],
   "source": [
    "Zsingle = np.array([[1, 2, 3],\n",
    "              [9, 4, 6],\n",
    "              [7, 2, 9]])"
   ]
  },
  {
   "cell_type": "code",
   "execution_count": 15,
   "metadata": {},
   "outputs": [],
   "source": [
    "A = np.array([[1, 2],\n",
    "              [2, 4]])"
   ]
  },
  {
   "cell_type": "code",
   "execution_count": 20,
   "metadata": {},
   "outputs": [
    {
     "data": {
      "text/plain": [
       "array([[ 1,  4,  7,  6],\n",
       "       [11, 30, 28, 24],\n",
       "       [25, 60, 41, 42],\n",
       "       [14, 32, 26, 36]])"
      ]
     },
     "execution_count": 20,
     "metadata": {},
     "output_type": "execute_result"
    }
   ],
   "source": [
    "scipy.signal.convolve2d(Zsingle, A)"
   ]
  },
  {
   "cell_type": "code",
   "execution_count": 22,
   "metadata": {},
   "outputs": [],
   "source": [
    "def pad2d(X, pad, kernel_shape, stride=None):\n",
    "    p = pad\n",
    "    if isinstance(p, int):\n",
    "        p = (p, p, p, p)\n",
    "\n",
    "    if isinstance(p, tuple):\n",
    "        if len(p) == 2:\n",
    "            p = (p[0], p[0], p[1], p[1])\n",
    "\n",
    "        X_pad = np.pad(\n",
    "            X,\n",
    "            pad_width=((0, 0), (p[0], p[1]), (p[2], p[3]), (0, 0)),\n",
    "            mode=\"constant\",\n",
    "            constant_values=0,\n",
    "        )\n",
    "    if p == \"same\" and kernel_shape and stride is not None:\n",
    "        p = compute_pad(X, kernel_shape, stride)\n",
    "        X_pad, p = pad2d(X, p, kernel_shape, stride)\n",
    "    return X_pad, p\n"
   ]
  },
  {
   "cell_type": "code",
   "execution_count": 24,
   "metadata": {},
   "outputs": [],
   "source": [
    "def im2col_indices(X, kernel_shape, stride, pad):\n",
    "    p = pad\n",
    "\n",
    "    n_examples, in_channels, in_rows, in_cols = X.shape\n",
    "    kernel_height, kernel_width = kernel_shape\n",
    "\n",
    "    out_rows = (in_rows + p[0] + p[1] - kernel_height) // stride + 1\n",
    "    out_cols = (in_cols + p[2] + p[3] - kernel_width) // stride + 1\n",
    "\n",
    "    i0 = np.repeat(np.arange(kernel_height), kernel_width)\n",
    "    i0 = np.tile(i0, in_channels)\n",
    "    i1 = stride * np.repeat(np.arange(out_rows), out_cols)\n",
    "    j0 = np.tile(np.arange(kernel_width), kernel_height * in_channels)\n",
    "    j1 = stride * np.tile(np.arange(out_cols), out_rows)\n",
    "\n",
    "    i = i0.reshape(-1, 1) + i1.reshape(1, -1)\n",
    "    j = j0.reshape(-1, 1) + j1.reshape(1, -1)\n",
    "    k = np.repeat(np.arange(in_channels), kernel_height * kernel_width).reshape(\n",
    "        -1, 1\n",
    "    )\n",
    "\n",
    "    return i, j, k"
   ]
  },
  {
   "cell_type": "code",
   "execution_count": 25,
   "metadata": {},
   "outputs": [
    {
     "data": {
      "text/plain": [
       "(array([], shape=(12, 0), dtype=int64), (0, 0, 0, 0))"
      ]
     },
     "execution_count": 25,
     "metadata": {},
     "output_type": "execute_result"
    }
   ],
   "source": [
    "im2col(Z, (2, 2), 1, 0)"
   ]
  },
  {
   "cell_type": "code",
   "execution_count": 31,
   "metadata": {},
   "outputs": [],
   "source": [
    "W = np.ones(420).reshape(5,4, 7, 3)"
   ]
  },
  {
   "cell_type": "code",
   "execution_count": 33,
   "metadata": {},
   "outputs": [
    {
     "name": "stdout",
     "output_type": "stream",
     "text": [
      "(5, 4, 7, 3)\n",
      "(3, 7, 4, 5)\n"
     ]
    }
   ],
   "source": [
    "print(W.shape)\n",
    "print(W.T.shape)"
   ]
  },
  {
   "cell_type": "code",
   "execution_count": 34,
   "metadata": {},
   "outputs": [
    {
     "data": {
      "text/plain": [
       "(5, 4, 7, 3)"
      ]
     },
     "execution_count": 34,
     "metadata": {},
     "output_type": "execute_result"
    }
   ],
   "source": [
    "W.shape"
   ]
  },
  {
   "cell_type": "code",
   "execution_count": 36,
   "metadata": {},
   "outputs": [
    {
     "data": {
      "text/plain": [
       "(3, 7, 4, 5)"
      ]
     },
     "execution_count": 36,
     "metadata": {},
     "output_type": "execute_result"
    }
   ],
   "source": [
    "W.T.shape"
   ]
  },
  {
   "cell_type": "code",
   "execution_count": 38,
   "metadata": {},
   "outputs": [
    {
     "data": {
      "text/plain": [
       "(3, 7, 5, 4)"
      ]
     },
     "execution_count": 38,
     "metadata": {},
     "output_type": "execute_result"
    }
   ],
   "source": [
    "np.transpose(W, [3, 2, 0, 1]).shape"
   ]
  },
  {
   "cell_type": "code",
   "execution_count": 43,
   "metadata": {},
   "outputs": [
    {
     "data": {
      "text/plain": [
       "(5, 84)"
      ]
     },
     "execution_count": 43,
     "metadata": {},
     "output_type": "execute_result"
    }
   ],
   "source": [
    "W.reshape((W.shape[0], -1)).shape"
   ]
  },
  {
   "cell_type": "code",
   "execution_count": 49,
   "metadata": {},
   "outputs": [],
   "source": [
    "W_T = np.transpose(W, [3, 2, 0, 1])"
   ]
  },
  {
   "cell_type": "code",
   "execution_count": 50,
   "metadata": {},
   "outputs": [
    {
     "data": {
      "text/plain": [
       "(3, 7, 5, 4)"
      ]
     },
     "execution_count": 50,
     "metadata": {},
     "output_type": "execute_result"
    }
   ],
   "source": [
    "W_T.shape"
   ]
  },
  {
   "cell_type": "code",
   "execution_count": null,
   "metadata": {},
   "outputs": [],
   "source": [
    "W_T.reshape(3, )"
   ]
  },
  {
   "cell_type": "code",
   "execution_count": null,
   "metadata": {},
   "outputs": [],
   "source": [
    "def forward(self, X):\n",
    "        \"\"\"\n",
    "            Performs a forward convolution.\n",
    "           \n",
    "            Parameters:\n",
    "            - X : Last conv layer of shape (m, n_C_prev, n_H_prev, n_W_prev).\n",
    "            Returns:\n",
    "            - out: previous layer convolved.\n",
    "        \"\"\"\n",
    "        # m -> number of examples.\n",
    "        # n_C_prev -> number of channels\n",
    "        # n_H_prev -> height of the previous layer\n",
    "        # n_W_prev -> width of the previous layer\n",
    "        m, n_C_prev, n_H_prev, n_W_prev = X.shape\n",
    "\n",
    "        # self.f -> filter size\n",
    "        # self.n_F -> number of filters, out_channels??\n",
    "        # self.s -> stride\n",
    "        n_C = self.n_F\n",
    "        n_H = int((n_H_prev + 2 * self.p - self.f)/ self.s) + 1\n",
    "        n_W = int((n_W_prev + 2 * self.p - self.f)/ self.s) + 1\n",
    "        \n",
    "        X_col = im2col(X, self.f, self.f, self.s, self.p)\n",
    "        w_col = self.W['val'].reshape((self.n_F, -1))\n",
    "        b_col = self.b['val'].reshape(-1, 1)\n",
    "        # Perform matrix multiplication.\n",
    "        out = w_col @ X_col + b_col\n",
    "        # Reshape back matrix to image.\n",
    "        out = np.array(np.hsplit(out, m)).reshape((m, n_C, n_H, n_W))\n",
    "        self.cache = X, X_col, w_col\n",
    "        return out"
   ]
  },
  {
   "cell_type": "code",
   "execution_count": 67,
   "metadata": {},
   "outputs": [],
   "source": [
    "# kernel height = 3\n",
    "# kernel width = 3\n",
    "# in_channels = 3\n",
    "# out_channels = 2\n",
    "\n",
    "# current --> height, width, channel, filters\n",
    "# result --> split by filter, then channel, then height, then width\n",
    "A = np.random.randint(0, 10, (3, 3, 3, 2))"
   ]
  },
  {
   "cell_type": "code",
   "execution_count": 70,
   "metadata": {},
   "outputs": [
    {
     "data": {
      "text/plain": [
       "array([[[[3, 1],\n",
       "         [1, 8],\n",
       "         [6, 1]],\n",
       "\n",
       "        [[2, 9],\n",
       "         [6, 3],\n",
       "         [5, 8]],\n",
       "\n",
       "        [[9, 2],\n",
       "         [5, 3],\n",
       "         [5, 5]]],\n",
       "\n",
       "\n",
       "       [[[3, 5],\n",
       "         [1, 8],\n",
       "         [5, 6]],\n",
       "\n",
       "        [[5, 4],\n",
       "         [3, 6],\n",
       "         [7, 1]],\n",
       "\n",
       "        [[3, 2],\n",
       "         [5, 4],\n",
       "         [3, 7]]],\n",
       "\n",
       "\n",
       "       [[[0, 1],\n",
       "         [2, 8],\n",
       "         [6, 4]],\n",
       "\n",
       "        [[8, 3],\n",
       "         [0, 2],\n",
       "         [2, 1]],\n",
       "\n",
       "        [[4, 2],\n",
       "         [1, 9],\n",
       "         [8, 2]]]])"
      ]
     },
     "execution_count": 70,
     "metadata": {},
     "output_type": "execute_result"
    }
   ],
   "source": [
    "A"
   ]
  },
  {
   "cell_type": "code",
   "execution_count": 64,
   "metadata": {},
   "outputs": [
    {
     "data": {
      "text/plain": [
       "array([[[[4, 6, 9],\n",
       "         [8, 4, 2]],\n",
       "\n",
       "        [[3, 3, 4],\n",
       "         [3, 2, 5]],\n",
       "\n",
       "        [[2, 4, 2],\n",
       "         [5, 9, 1]]],\n",
       "\n",
       "\n",
       "       [[[2, 5, 6],\n",
       "         [1, 8, 9]],\n",
       "\n",
       "        [[5, 7, 0],\n",
       "         [9, 8, 4]],\n",
       "\n",
       "        [[4, 2, 0],\n",
       "         [8, 9, 2]]],\n",
       "\n",
       "\n",
       "       [[[7, 4, 6],\n",
       "         [7, 1, 7]],\n",
       "\n",
       "        [[2, 1, 5],\n",
       "         [2, 6, 7]],\n",
       "\n",
       "        [[0, 7, 9],\n",
       "         [0, 4, 3]]]])"
      ]
     },
     "execution_count": 64,
     "metadata": {},
     "output_type": "execute_result"
    }
   ],
   "source": [
    "np.transpose(A, (3, 2, 0, 1))"
   ]
  },
  {
   "cell_type": "code",
   "execution_count": 133,
   "metadata": {},
   "outputs": [
    {
     "data": {
      "text/plain": [
       "array([[3, 1],\n",
       "       [3, 5],\n",
       "       [0, 1],\n",
       "       [2, 9],\n",
       "       [5, 4],\n",
       "       [8, 3],\n",
       "       [9, 2],\n",
       "       [3, 2],\n",
       "       [4, 2],\n",
       "       [1, 8],\n",
       "       [1, 8],\n",
       "       [2, 8],\n",
       "       [6, 3],\n",
       "       [3, 6],\n",
       "       [0, 2],\n",
       "       [5, 3],\n",
       "       [5, 4],\n",
       "       [1, 9],\n",
       "       [6, 1],\n",
       "       [5, 6],\n",
       "       [6, 4],\n",
       "       [5, 8],\n",
       "       [7, 1],\n",
       "       [2, 1],\n",
       "       [5, 5],\n",
       "       [3, 7],\n",
       "       [8, 2]])"
      ]
     },
     "execution_count": 133,
     "metadata": {},
     "output_type": "execute_result"
    }
   ],
   "source": [
    "A.reshape(27, 2, order=\"F\")"
   ]
  },
  {
   "cell_type": "code",
   "execution_count": 72,
   "metadata": {},
   "outputs": [
    {
     "data": {
      "text/plain": [
       "array([[[[3, 2, 9],\n",
       "         [3, 5, 3],\n",
       "         [0, 8, 4]],\n",
       "\n",
       "        [[1, 6, 5],\n",
       "         [1, 3, 5],\n",
       "         [2, 0, 1]],\n",
       "\n",
       "        [[6, 5, 5],\n",
       "         [5, 7, 3],\n",
       "         [6, 2, 8]]],\n",
       "\n",
       "\n",
       "       [[[1, 9, 2],\n",
       "         [5, 4, 2],\n",
       "         [1, 3, 2]],\n",
       "\n",
       "        [[8, 3, 3],\n",
       "         [8, 6, 4],\n",
       "         [8, 2, 9]],\n",
       "\n",
       "        [[1, 8, 5],\n",
       "         [6, 1, 7],\n",
       "         [4, 1, 2]]]])"
      ]
     },
     "execution_count": 72,
     "metadata": {},
     "output_type": "execute_result"
    }
   ],
   "source": [
    "# result --> split by filter, then channel, then height, then width\n",
    "A_T = A.transpose(3, 2, 0, 1)\n",
    "A_T"
   ]
  },
  {
   "cell_type": "code",
   "execution_count": 107,
   "metadata": {},
   "outputs": [],
   "source": [
    "arr = []\n",
    "for i in range(A_T.shape[0]):\n",
    "    arr.append(A_T[i].flatten())\n",
    "arr_T = np.array(arr).T"
   ]
  },
  {
   "cell_type": "code",
   "execution_count": 108,
   "metadata": {},
   "outputs": [
    {
     "data": {
      "text/plain": [
       "array([[[[3, 2, 9],\n",
       "         [3, 5, 3],\n",
       "         [0, 8, 4]],\n",
       "\n",
       "        [[1, 6, 5],\n",
       "         [1, 3, 5],\n",
       "         [2, 0, 1]],\n",
       "\n",
       "        [[6, 5, 5],\n",
       "         [5, 7, 3],\n",
       "         [6, 2, 8]]],\n",
       "\n",
       "\n",
       "       [[[1, 9, 2],\n",
       "         [5, 4, 2],\n",
       "         [1, 3, 2]],\n",
       "\n",
       "        [[8, 3, 3],\n",
       "         [8, 6, 4],\n",
       "         [8, 2, 9]],\n",
       "\n",
       "        [[1, 8, 5],\n",
       "         [6, 1, 7],\n",
       "         [4, 1, 2]]]])"
      ]
     },
     "execution_count": 108,
     "metadata": {},
     "output_type": "execute_result"
    }
   ],
   "source": [
    "A_T"
   ]
  },
  {
   "cell_type": "code",
   "execution_count": 127,
   "metadata": {},
   "outputs": [
    {
     "name": "stdout",
     "output_type": "stream",
     "text": [
      "(3, 3, 3, 2)\n",
      "(27, 2)\n"
     ]
    }
   ],
   "source": [
    "print(A_T.T.shape)\n",
    "print(arr_T.shape)"
   ]
  },
  {
   "cell_type": "code",
   "execution_count": 128,
   "metadata": {},
   "outputs": [
    {
     "data": {
      "text/plain": [
       "array([[[[3, 1],\n",
       "         [1, 8],\n",
       "         [6, 1]],\n",
       "\n",
       "        [[3, 5],\n",
       "         [1, 8],\n",
       "         [5, 6]],\n",
       "\n",
       "        [[0, 1],\n",
       "         [2, 8],\n",
       "         [6, 4]]],\n",
       "\n",
       "\n",
       "       [[[2, 9],\n",
       "         [6, 3],\n",
       "         [5, 8]],\n",
       "\n",
       "        [[5, 4],\n",
       "         [3, 6],\n",
       "         [7, 1]],\n",
       "\n",
       "        [[8, 3],\n",
       "         [0, 2],\n",
       "         [2, 1]]],\n",
       "\n",
       "\n",
       "       [[[9, 2],\n",
       "         [5, 3],\n",
       "         [5, 5]],\n",
       "\n",
       "        [[3, 2],\n",
       "         [5, 4],\n",
       "         [3, 7]],\n",
       "\n",
       "        [[4, 2],\n",
       "         [1, 9],\n",
       "         [8, 2]]]])"
      ]
     },
     "execution_count": 128,
     "metadata": {},
     "output_type": "execute_result"
    }
   ],
   "source": [
    "A_T.T"
   ]
  },
  {
   "cell_type": "code",
   "execution_count": 131,
   "metadata": {},
   "outputs": [
    {
     "data": {
      "text/plain": [
       "array([[[[3, 1],\n",
       "         [1, 8],\n",
       "         [6, 1]],\n",
       "\n",
       "        [[3, 5],\n",
       "         [1, 8],\n",
       "         [5, 6]],\n",
       "\n",
       "        [[0, 1],\n",
       "         [2, 8],\n",
       "         [6, 4]]],\n",
       "\n",
       "\n",
       "       [[[2, 9],\n",
       "         [6, 3],\n",
       "         [5, 8]],\n",
       "\n",
       "        [[5, 4],\n",
       "         [3, 6],\n",
       "         [7, 1]],\n",
       "\n",
       "        [[8, 3],\n",
       "         [0, 2],\n",
       "         [2, 1]]],\n",
       "\n",
       "\n",
       "       [[[9, 2],\n",
       "         [5, 3],\n",
       "         [5, 5]],\n",
       "\n",
       "        [[3, 2],\n",
       "         [5, 4],\n",
       "         [3, 7]],\n",
       "\n",
       "        [[4, 2],\n",
       "         [1, 9],\n",
       "         [8, 2]]]])"
      ]
     },
     "execution_count": 131,
     "metadata": {},
     "output_type": "execute_result"
    }
   ],
   "source": [
    "arr_T.reshape(3, 3, 3, 2, order='F')"
   ]
  },
  {
   "cell_type": "code",
   "execution_count": 132,
   "metadata": {},
   "outputs": [
    {
     "data": {
      "text/plain": [
       "array([[[[ True,  True],\n",
       "         [ True,  True],\n",
       "         [ True,  True]],\n",
       "\n",
       "        [[ True,  True],\n",
       "         [ True,  True],\n",
       "         [ True,  True]],\n",
       "\n",
       "        [[ True,  True],\n",
       "         [ True,  True],\n",
       "         [ True,  True]]],\n",
       "\n",
       "\n",
       "       [[[ True,  True],\n",
       "         [ True,  True],\n",
       "         [ True,  True]],\n",
       "\n",
       "        [[ True,  True],\n",
       "         [ True,  True],\n",
       "         [ True,  True]],\n",
       "\n",
       "        [[ True,  True],\n",
       "         [ True,  True],\n",
       "         [ True,  True]]],\n",
       "\n",
       "\n",
       "       [[[ True,  True],\n",
       "         [ True,  True],\n",
       "         [ True,  True]],\n",
       "\n",
       "        [[ True,  True],\n",
       "         [ True,  True],\n",
       "         [ True,  True]],\n",
       "\n",
       "        [[ True,  True],\n",
       "         [ True,  True],\n",
       "         [ True,  True]]]])"
      ]
     },
     "execution_count": 132,
     "metadata": {},
     "output_type": "execute_result"
    }
   ],
   "source": [
    "arr_T.reshape(3, 3, 3, 2, order='F') == A_T.T"
   ]
  },
  {
   "cell_type": "code",
   "execution_count": 130,
   "metadata": {},
   "outputs": [
    {
     "data": {
      "text/plain": [
       "array([[3, 1],\n",
       "       [2, 9],\n",
       "       [9, 2],\n",
       "       [3, 5],\n",
       "       [5, 4],\n",
       "       [3, 2],\n",
       "       [0, 1],\n",
       "       [8, 3],\n",
       "       [4, 2],\n",
       "       [1, 8],\n",
       "       [6, 3],\n",
       "       [5, 3],\n",
       "       [1, 8],\n",
       "       [3, 6],\n",
       "       [5, 4],\n",
       "       [2, 8],\n",
       "       [0, 2],\n",
       "       [1, 9],\n",
       "       [6, 1],\n",
       "       [5, 8],\n",
       "       [5, 5],\n",
       "       [5, 6],\n",
       "       [7, 1],\n",
       "       [3, 7],\n",
       "       [6, 4],\n",
       "       [2, 1],\n",
       "       [8, 2]])"
      ]
     },
     "execution_count": 130,
     "metadata": {},
     "output_type": "execute_result"
    }
   ],
   "source": [
    "arr_T"
   ]
  },
  {
   "cell_type": "code",
   "execution_count": 126,
   "metadata": {},
   "outputs": [
    {
     "data": {
      "text/plain": [
       "array([[[[3, 1],\n",
       "         [1, 8],\n",
       "         [6, 1]],\n",
       "\n",
       "        [[3, 5],\n",
       "         [1, 8],\n",
       "         [5, 6]],\n",
       "\n",
       "        [[0, 1],\n",
       "         [2, 8],\n",
       "         [6, 4]]],\n",
       "\n",
       "\n",
       "       [[[2, 9],\n",
       "         [6, 3],\n",
       "         [5, 8]],\n",
       "\n",
       "        [[5, 4],\n",
       "         [3, 6],\n",
       "         [7, 1]],\n",
       "\n",
       "        [[8, 3],\n",
       "         [0, 2],\n",
       "         [2, 1]]],\n",
       "\n",
       "\n",
       "       [[[9, 2],\n",
       "         [5, 3],\n",
       "         [5, 5]],\n",
       "\n",
       "        [[3, 2],\n",
       "         [5, 4],\n",
       "         [3, 7]],\n",
       "\n",
       "        [[4, 2],\n",
       "         [1, 9],\n",
       "         [8, 2]]]])"
      ]
     },
     "execution_count": 126,
     "metadata": {},
     "output_type": "execute_result"
    }
   ],
   "source": [
    "A_T.T"
   ]
  },
  {
   "cell_type": "code",
   "execution_count": 124,
   "metadata": {},
   "outputs": [
    {
     "data": {
      "text/plain": [
       "array([[[[3, 1],\n",
       "         [2, 9],\n",
       "         [9, 2]],\n",
       "\n",
       "        [[3, 5],\n",
       "         [5, 4],\n",
       "         [3, 2]],\n",
       "\n",
       "        [[0, 1],\n",
       "         [8, 3],\n",
       "         [4, 2]]],\n",
       "\n",
       "\n",
       "       [[[1, 8],\n",
       "         [6, 3],\n",
       "         [5, 3]],\n",
       "\n",
       "        [[1, 8],\n",
       "         [3, 6],\n",
       "         [5, 4]],\n",
       "\n",
       "        [[2, 8],\n",
       "         [0, 2],\n",
       "         [1, 9]]],\n",
       "\n",
       "\n",
       "       [[[6, 1],\n",
       "         [5, 8],\n",
       "         [5, 5]],\n",
       "\n",
       "        [[5, 6],\n",
       "         [7, 1],\n",
       "         [3, 7]],\n",
       "\n",
       "        [[6, 4],\n",
       "         [2, 1],\n",
       "         [8, 2]]]])"
      ]
     },
     "execution_count": 124,
     "metadata": {},
     "output_type": "execute_result"
    }
   ],
   "source": [
    "arr_T.reshape(3, 3, 3, 2)"
   ]
  },
  {
   "cell_type": "code",
   "execution_count": 117,
   "metadata": {},
   "outputs": [
    {
     "data": {
      "text/plain": [
       "array([[3, 2, 9, 3, 5, 3, 0, 8, 4, 1, 6, 5, 1, 3, 5, 2, 0, 1, 6, 5, 5, 5,\n",
       "        7, 3, 6, 2, 8],\n",
       "       [1, 9, 2, 5, 4, 2, 1, 3, 2, 8, 3, 3, 8, 6, 4, 8, 2, 9, 1, 8, 5, 6,\n",
       "        1, 7, 4, 1, 2]])"
      ]
     },
     "execution_count": 117,
     "metadata": {},
     "output_type": "execute_result"
    }
   ],
   "source": [
    "arr_T.T"
   ]
  },
  {
   "cell_type": "code",
   "execution_count": 119,
   "metadata": {},
   "outputs": [
    {
     "data": {
      "text/plain": [
       "array([[[[3, 2, 9],\n",
       "         [3, 5, 3],\n",
       "         [0, 8, 4]],\n",
       "\n",
       "        [[1, 6, 5],\n",
       "         [1, 3, 5],\n",
       "         [2, 0, 1]],\n",
       "\n",
       "        [[6, 5, 5],\n",
       "         [5, 7, 3],\n",
       "         [6, 2, 8]]],\n",
       "\n",
       "\n",
       "       [[[1, 9, 2],\n",
       "         [5, 4, 2],\n",
       "         [1, 3, 2]],\n",
       "\n",
       "        [[8, 3, 3],\n",
       "         [8, 6, 4],\n",
       "         [8, 2, 9]],\n",
       "\n",
       "        [[1, 8, 5],\n",
       "         [6, 1, 7],\n",
       "         [4, 1, 2]]]])"
      ]
     },
     "execution_count": 119,
     "metadata": {},
     "output_type": "execute_result"
    }
   ],
   "source": [
    "arr_T.T.reshape(2, 3, 3, 3, order=\"C\")"
   ]
  },
  {
   "cell_type": "code",
   "execution_count": 100,
   "metadata": {},
   "outputs": [
    {
     "data": {
      "text/plain": [
       "(27, 2)"
      ]
     },
     "execution_count": 100,
     "metadata": {},
     "output_type": "execute_result"
    }
   ],
   "source": [
    "arr_T.shape"
   ]
  },
  {
   "cell_type": "code",
   "execution_count": null,
   "metadata": {},
   "outputs": [],
   "source": []
  },
  {
   "cell_type": "code",
   "execution_count": 101,
   "metadata": {},
   "outputs": [
    {
     "data": {
      "text/plain": [
       "array([[[[3, 1],\n",
       "         [2, 9],\n",
       "         [9, 2]],\n",
       "\n",
       "        [[3, 5],\n",
       "         [5, 4],\n",
       "         [3, 2]],\n",
       "\n",
       "        [[0, 1],\n",
       "         [8, 3],\n",
       "         [4, 2]]],\n",
       "\n",
       "\n",
       "       [[[1, 8],\n",
       "         [6, 3],\n",
       "         [5, 3]],\n",
       "\n",
       "        [[1, 8],\n",
       "         [3, 6],\n",
       "         [5, 4]],\n",
       "\n",
       "        [[2, 8],\n",
       "         [0, 2],\n",
       "         [1, 9]]],\n",
       "\n",
       "\n",
       "       [[[6, 1],\n",
       "         [5, 8],\n",
       "         [5, 5]],\n",
       "\n",
       "        [[5, 6],\n",
       "         [7, 1],\n",
       "         [3, 7]],\n",
       "\n",
       "        [[6, 4],\n",
       "         [2, 1],\n",
       "         [8, 2]]]])"
      ]
     },
     "execution_count": 101,
     "metadata": {},
     "output_type": "execute_result"
    }
   ],
   "source": [
    "arr_T.reshape(3, 3, 3, 2)"
   ]
  },
  {
   "cell_type": "code",
   "execution_count": 78,
   "metadata": {},
   "outputs": [
    {
     "data": {
      "text/plain": [
       "array([[7, 5, 4, ..., 5, 4, 0],\n",
       "       [1, 5, 6, ..., 8, 7, 4],\n",
       "       [0, 9, 7, ..., 7, 6, 3],\n",
       "       ...,\n",
       "       [0, 0, 3, ..., 3, 6, 9],\n",
       "       [3, 1, 1, ..., 5, 1, 9],\n",
       "       [1, 2, 2, ..., 0, 2, 5]])"
      ]
     },
     "execution_count": 78,
     "metadata": {},
     "output_type": "execute_result"
    }
   ],
   "source": [
    "X = np.random.randint(0, 10, (27, 40))\n",
    "X"
   ]
  },
  {
   "cell_type": "code",
   "execution_count": 82,
   "metadata": {},
   "outputs": [
    {
     "data": {
      "text/plain": [
       "(2, 3, 3, 3)"
      ]
     },
     "execution_count": 82,
     "metadata": {},
     "output_type": "execute_result"
    }
   ],
   "source": [
    "A_T.shape"
   ]
  },
  {
   "cell_type": "code",
   "execution_count": null,
   "metadata": {},
   "outputs": [],
   "source": [
    "# result --> split by filter, then channel, then height, then width\n",
    "array([[[[3, 2, 9],\n",
    "         [3, 5, 3],\n",
    "         [0, 8, 4]],\n",
    "\n",
    "        [[1, 6, 5],\n",
    "         [1, 3, 5],\n",
    "         [2, 0, 1]],\n",
    "\n",
    "        [[6, 5, 5],\n",
    "         [5, 7, 3],\n",
    "         [6, 2, 8]]],\n",
    "\n",
    "\n",
    "       [[[1, 9, 2],\n",
    "         [5, 4, 2],\n",
    "         [1, 3, 2]],\n",
    "\n",
    "        [[8, 3, 3],\n",
    "         [8, 6, 4],\n",
    "         [8, 2, 9]],\n",
    "\n",
    "        [[1, 8, 5],\n",
    "         [6, 1, 7],\n",
    "         [4, 1, 2]]]])"
   ]
  },
  {
   "cell_type": "code",
   "execution_count": null,
   "metadata": {},
   "outputs": [],
   "source": [
    "# kernel height = 3\n",
    "# kernel width = 3\n",
    "# in_channels = 3\n",
    "# out_channels = 2\n",
    "\n",
    "array([[[[3, 1],\n",
    "         [1, 8],\n",
    "         [6, 1]],\n",
    "\n",
    "        [[2, 9],\n",
    "         [6, 3],\n",
    "         [5, 8]],\n",
    "\n",
    "        [[9, 2],\n",
    "         [5, 3],\n",
    "         [5, 5]]],\n",
    "\n",
    "\n",
    "       [[[3, 5],\n",
    "         [1, 8],\n",
    "         [5, 6]],\n",
    "\n",
    "        [[5, 4],\n",
    "         [3, 6],\n",
    "         [7, 1]],\n",
    "\n",
    "        [[3, 2],\n",
    "         [5, 4],\n",
    "         [3, 7]]],\n",
    "\n",
    "\n",
    "       [[[0, 1],\n",
    "         [2, 8],\n",
    "         [6, 4]],\n",
    "\n",
    "        [[8, 3],\n",
    "         [0, 2],\n",
    "         [2, 1]],\n",
    "\n",
    "        [[4, 2],\n",
    "         [1, 9],\n",
    "         [8, 2]]]])"
   ]
  },
  {
   "cell_type": "code",
   "execution_count": 135,
   "metadata": {},
   "outputs": [
    {
     "data": {
      "text/plain": [
       "array([[[[ 9,  4, 81],\n",
       "         [ 9, 25,  9],\n",
       "         [ 0, 64, 16]],\n",
       "\n",
       "        [[ 1, 36, 25],\n",
       "         [ 1,  9, 25],\n",
       "         [ 4,  0,  1]],\n",
       "\n",
       "        [[36, 25, 25],\n",
       "         [25, 49,  9],\n",
       "         [36,  4, 64]]],\n",
       "\n",
       "\n",
       "       [[[ 1, 81,  4],\n",
       "         [25, 16,  4],\n",
       "         [ 1,  9,  4]],\n",
       "\n",
       "        [[64,  9,  9],\n",
       "         [64, 36, 16],\n",
       "         [64,  4, 81]],\n",
       "\n",
       "        [[ 1, 64, 25],\n",
       "         [36,  1, 49],\n",
       "         [16,  1,  4]]]])"
      ]
     },
     "execution_count": 135,
     "metadata": {},
     "output_type": "execute_result"
    }
   ],
   "source": [
    "A_T * A_T"
   ]
  },
  {
   "cell_type": "code",
   "execution_count": 138,
   "metadata": {},
   "outputs": [
    {
     "data": {
      "text/plain": [
       "223"
      ]
     },
     "execution_count": 138,
     "metadata": {},
     "output_type": "execute_result"
    }
   ],
   "source": [
    "A_T.sum()"
   ]
  },
  {
   "cell_type": "code",
   "execution_count": 139,
   "metadata": {},
   "outputs": [],
   "source": [
    "W = np.random.randint(0, 10, (3, 3, 3))"
   ]
  },
  {
   "cell_type": "code",
   "execution_count": 140,
   "metadata": {},
   "outputs": [
    {
     "data": {
      "text/plain": [
       "array([[[8, 1, 9],\n",
       "        [8, 1, 0],\n",
       "        [9, 2, 9]],\n",
       "\n",
       "       [[1, 6, 1],\n",
       "        [8, 9, 0],\n",
       "        [9, 3, 6]],\n",
       "\n",
       "       [[4, 0, 6],\n",
       "        [4, 7, 0],\n",
       "        [6, 7, 7]]])"
      ]
     },
     "execution_count": 140,
     "metadata": {},
     "output_type": "execute_result"
    }
   ],
   "source": [
    "W"
   ]
  },
  {
   "cell_type": "code",
   "execution_count": 147,
   "metadata": {},
   "outputs": [
    {
     "data": {
      "text/plain": [
       "131"
      ]
     },
     "execution_count": 147,
     "metadata": {},
     "output_type": "execute_result"
    }
   ],
   "source": [
    "np.sum(W, axis=(0, 1, 2))"
   ]
  },
  {
   "cell_type": "code",
   "execution_count": null,
   "metadata": {},
   "outputs": [],
   "source": []
  }
 ],
 "metadata": {
  "kernelspec": {
   "display_name": "nlp",
   "language": "python",
   "name": "python3"
  },
  "language_info": {
   "codemirror_mode": {
    "name": "ipython",
    "version": 3
   },
   "file_extension": ".py",
   "mimetype": "text/x-python",
   "name": "python",
   "nbconvert_exporter": "python",
   "pygments_lexer": "ipython3",
   "version": "3.10.4"
  },
  "orig_nbformat": 4
 },
 "nbformat": 4,
 "nbformat_minor": 2
}
