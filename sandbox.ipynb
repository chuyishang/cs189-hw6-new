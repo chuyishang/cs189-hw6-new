{
 "cells": [
  {
   "cell_type": "code",
   "execution_count": 2,
   "metadata": {},
   "outputs": [],
   "source": [
    "import numpy as np"
   ]
  },
  {
   "cell_type": "code",
   "execution_count": 2,
   "metadata": {},
   "outputs": [
    {
     "data": {
      "text/plain": [
       "[0.007112438338266277, 0.019333611890944673, 0.14285714285714285]"
      ]
     },
     "execution_count": 2,
     "metadata": {},
     "output_type": "execute_result"
    }
   ],
   "source": [
    "z = np.array([1, 2, 4])\n",
    "\n",
    "arr = []\n",
    "for i in range(len(z)):\n",
    "    elem = np.exp(z[i] - 4) / 7\n",
    "    arr.append(elem)\n",
    "arr"
   ]
  },
  {
   "cell_type": "code",
   "execution_count": 7,
   "metadata": {},
   "outputs": [
    {
     "data": {
      "text/plain": [
       "array([0.00711244, 0.01933361, 0.14285714])"
      ]
     },
     "execution_count": 7,
     "metadata": {},
     "output_type": "execute_result"
    }
   ],
   "source": [
    "max = np.max(z)\n",
    "np.exp(z - max) / np.sum(z - max)"
   ]
  },
  {
   "cell_type": "code",
   "execution_count": 6,
   "metadata": {},
   "outputs": [
    {
     "data": {
      "text/plain": [
       "7"
      ]
     },
     "execution_count": 6,
     "metadata": {},
     "output_type": "execute_result"
    }
   ],
   "source": [
    "np.sum(z)"
   ]
  },
  {
   "cell_type": "code",
   "execution_count": 8,
   "metadata": {},
   "outputs": [
    {
     "data": {
      "text/plain": [
       "array([ 2,  4, 16], dtype=int32)"
      ]
     },
     "execution_count": 8,
     "metadata": {},
     "output_type": "execute_result"
    }
   ],
   "source": [
    "2 ** z"
   ]
  },
  {
   "cell_type": "code",
   "execution_count": 9,
   "metadata": {},
   "outputs": [
    {
     "data": {
      "text/plain": [
       "array([-3, -2,  0])"
      ]
     },
     "execution_count": 9,
     "metadata": {},
     "output_type": "execute_result"
    }
   ],
   "source": [
    "z-4"
   ]
  },
  {
   "cell_type": "code",
   "execution_count": 10,
   "metadata": {},
   "outputs": [
    {
     "data": {
      "text/plain": [
       "-5"
      ]
     },
     "execution_count": 10,
     "metadata": {},
     "output_type": "execute_result"
    }
   ],
   "source": [
    "np.sum(z-4)"
   ]
  },
  {
   "cell_type": "code",
   "execution_count": 32,
   "metadata": {},
   "outputs": [],
   "source": [
    "Z = np.array([[1, 2, 3],\n",
    "             [9, 4, 6],\n",
    "             [7, 2, 9]])"
   ]
  },
  {
   "cell_type": "code",
   "execution_count": 33,
   "metadata": {},
   "outputs": [
    {
     "data": {
      "text/plain": [
       "array([[1, 2, 3],\n",
       "       [9, 4, 6],\n",
       "       [7, 2, 9]])"
      ]
     },
     "execution_count": 33,
     "metadata": {},
     "output_type": "execute_result"
    }
   ],
   "source": [
    "Z"
   ]
  },
  {
   "cell_type": "code",
   "execution_count": 34,
   "metadata": {},
   "outputs": [
    {
     "data": {
      "text/plain": [
       "array([[3],\n",
       "       [9],\n",
       "       [9]])"
      ]
     },
     "execution_count": 34,
     "metadata": {},
     "output_type": "execute_result"
    }
   ],
   "source": [
    "np.max(Z, axis=1, keepdims=True)"
   ]
  },
  {
   "cell_type": "code",
   "execution_count": 35,
   "metadata": {},
   "outputs": [
    {
     "data": {
      "text/plain": [
       "array([[-2, -1,  0],\n",
       "       [ 0, -5, -3],\n",
       "       [-2, -7,  0]])"
      ]
     },
     "execution_count": 35,
     "metadata": {},
     "output_type": "execute_result"
    }
   ],
   "source": [
    "Z - np.max(Z, axis=1, keepdims=True)"
   ]
  },
  {
   "cell_type": "code",
   "execution_count": 36,
   "metadata": {},
   "outputs": [
    {
     "data": {
      "text/plain": [
       "array([[1.35335283e-01, 3.67879441e-01, 1.00000000e+00],\n",
       "       [1.00000000e+00, 6.73794700e-03, 4.97870684e-02],\n",
       "       [1.35335283e-01, 9.11881966e-04, 1.00000000e+00]])"
      ]
     },
     "execution_count": 36,
     "metadata": {},
     "output_type": "execute_result"
    }
   ],
   "source": [
    "np.exp(Z - np.max(Z, axis=1, keepdims=True))"
   ]
  },
  {
   "cell_type": "code",
   "execution_count": 42,
   "metadata": {},
   "outputs": [],
   "source": [
    "def forward(Z: np.ndarray) -> np.ndarray:\n",
    "    Z_center = Z - np.max(Z, axis=1, keepdims=True)\n",
    "        \n",
    "    num = np.exp(Z_center)\n",
    "    denom = np.sum(num, axis=1, keepdims=True)\n",
    "\n",
    "    softmax = num / denom\n",
    "\n",
    "    return softmax\n",
    "\n",
    "def backward(Z: np.ndarray, dY: np.ndarray) -> np.ndarray:\n",
    "    arr = []  \n",
    "    s = forward(Z)\n",
    "    ones = np.ones(Z.shape[0]).reshape(Z.shape[0], 1)\n",
    "    s_minus = ones - s\n",
    "    diags = s @ s_minus.T\n",
    "    for row in diags:\n",
    "        arr.append(np.diagflat(row))\n",
    "    \n",
    "\n",
    "\n",
    "\n",
    "    return np.array(arr)\n"
   ]
  },
  {
   "cell_type": "code",
   "execution_count": 54,
   "metadata": {},
   "outputs": [],
   "source": [
    "Z = np.array([[1, 2, 3],\n",
    "             [9, 4, 6],\n",
    "             [7, 2, 9],\n",
    "             [1, 5, 5]])"
   ]
  },
  {
   "cell_type": "code",
   "execution_count": 55,
   "metadata": {},
   "outputs": [
    {
     "data": {
      "text/plain": [
       "array([[9.00305732e-02, 2.44728471e-01, 6.65240956e-01],\n",
       "       [9.46499123e-01, 6.37746092e-03, 4.71234165e-02],\n",
       "       [1.19107257e-01, 8.02538386e-04, 8.80090205e-01],\n",
       "       [9.07471484e-03, 4.95462643e-01, 4.95462643e-01]])"
      ]
     },
     "execution_count": 55,
     "metadata": {},
     "output_type": "execute_result"
    }
   ],
   "source": [
    "arr = []  \n",
    "    s = forward(Z)\n",
    "    ones = np.ones(Z.shape[0]).reshape(Z.shape[0], 1)\n",
    "    s_minus = ones - s\n",
    "    diags = s @ s_minus.T\n",
    "    for row in diags:\n",
    "        arr.append(np.diagflat(row))"
   ]
  },
  {
   "cell_type": "code",
   "execution_count": 58,
   "metadata": {},
   "outputs": [],
   "source": [
    "A = np.ones(4).reshape(4,1) - s"
   ]
  },
  {
   "cell_type": "code",
   "execution_count": 59,
   "metadata": {},
   "outputs": [
    {
     "data": {
      "text/plain": [
       "array([[0.48945694, 0.88187697, 0.40360825, 0.54832714],\n",
       "       [0.88187697, 0.10187812, 0.84578711, 0.9649031 ],\n",
       "       [0.40360825, 0.84578711, 0.21125405, 0.56246969],\n",
       "       [0.54832714, 0.9649031 , 0.56246969, 0.50895119]])"
      ]
     },
     "execution_count": 59,
     "metadata": {},
     "output_type": "execute_result"
    }
   ],
   "source": [
    "diags = s @ A.T"
   ]
  },
  {
   "cell_type": "code",
   "execution_count": 1,
   "metadata": {},
   "outputs": [],
   "source": [
    "def im2col(X, kernel_shape, stride, pad):\n",
    "    # n_channels = in_channels\n",
    "    n_channels = X.shape[3]\n",
    "    # sliding kernel shape\n",
    "    kernel_height, kernel_width = kernel_shape\n",
    "    # padding\n",
    "    # X_pad is padded input\n",
    "    # p\n",
    "    X_pad, p = pad2d(X, pad, kernel_shape, stride)\n",
    "    X_pad = X_pad.transpose(0, 3, 1, 2)\n",
    "    X = X.transpose(0, 3, 1, 2)\n",
    "\n",
    "    i, j, k = im2col_indices(X, kernel_shape, stride, p)\n",
    "    X_col = X_pad[:, k, i, j]\n",
    "\n",
    "    X_col = X_col.transpose(1, 2, 0).reshape(\n",
    "        kernel_height * kernel_width * n_channels, -1\n",
    "    )\n",
    "\n",
    "    return X_col, p"
   ]
  },
  {
   "cell_type": "code",
   "execution_count": null,
   "metadata": {},
   "outputs": [],
   "source": []
  },
  {
   "cell_type": "code",
   "execution_count": 3,
   "metadata": {},
   "outputs": [],
   "source": [
    "Z = np.array([[1, 2, 3],\n",
    "              [9, 4, 6],\n",
    "              [7, 2, 9]])"
   ]
  },
  {
   "cell_type": "code",
   "execution_count": null,
   "metadata": {},
   "outputs": [],
   "source": [
    "A = np.array([[1, 2],\n",
    "              [2, 4]])"
   ]
  }
 ],
 "metadata": {
  "kernelspec": {
   "display_name": "nlp",
   "language": "python",
   "name": "python3"
  },
  "language_info": {
   "codemirror_mode": {
    "name": "ipython",
    "version": 3
   },
   "file_extension": ".py",
   "mimetype": "text/x-python",
   "name": "python",
   "nbconvert_exporter": "python",
   "pygments_lexer": "ipython3",
   "version": "3.10.4"
  },
  "orig_nbformat": 4
 },
 "nbformat": 4,
 "nbformat_minor": 2
}
